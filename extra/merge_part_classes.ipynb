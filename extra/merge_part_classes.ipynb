{
 "cells": [
  {
   "cell_type": "code",
   "execution_count": 1,
   "metadata": {},
   "outputs": [],
   "source": [
    "import numpy as np\n",
    "import json\n",
    "from tqdm import tqdm"
   ]
  },
  {
   "cell_type": "code",
   "execution_count": 6,
   "metadata": {},
   "outputs": [],
   "source": [
    "class2mergedclass = {}\n",
    "classes = set()\n",
    "with open('../data/VOCdevkit/VOC2010/Classes/part_classes_merged.txt', 'r') as f:\n",
    "    class_ind = 0\n",
    "    line = f.readline().replace('\\n','').strip()\n",
    "    classes.add(line)\n",
    "    merged_class = line + '::' + str(class_ind)\n",
    "    while True:\n",
    "        line = f.readline().replace('\\n','').strip()\n",
    "        if line == 'END_OF_FILE':\n",
    "            break\n",
    "        if line == '':\n",
    "            class_ind += 1\n",
    "            line = f.readline().replace('\\n','').strip()\n",
    "            classes.add(line)\n",
    "            merged_class = line + '::' + str(class_ind)\n",
    "            continue\n",
    "        class2mergedclass[line] = merged_class"
   ]
  },
  {
   "cell_type": "code",
   "execution_count": 7,
   "metadata": {
    "scrolled": true
   },
   "outputs": [
    {
     "name": "stdout",
     "output_type": "stream",
     "text": [
      "__background__ __background__::0\n",
      "engine_1 ENGINE::1\n",
      "engine_2 ENGINE::2\n",
      "engine_3 ENGINE::3\n",
      "engine_4 ENGINE::4\n",
      "engine_5 ENGINE::5\n",
      "engine_6 ENGINE::6\n",
      "body BODY::7\n",
      "beak FACE::8\n",
      "hair FACE::8\n",
      "head FACE::8\n",
      "nose FACE::8\n",
      "lear FACE::8\n",
      "lebrow FACE::8\n",
      "leye FACE::8\n",
      "mouth FACE::8\n",
      "rear FACE::8\n",
      "rebrow FACE::8\n",
      "reye FACE::8\n",
      "lbleg LEG::9\n",
      "lblleg LEG::9\n",
      "lbuleg LEG::9\n",
      "lbho LEG::9\n",
      "lfleg LEG::10\n",
      "lflleg LEG::10\n",
      "lfuleg LEG::10\n",
      "lfho LEG::10\n",
      "lleg LEG::11\n",
      "llleg LEG::11\n",
      "luleg LEG::11\n",
      "lfoot LEG::11\n",
      "rbleg LEG::12\n",
      "rblleg LEG::12\n",
      "rbuleg LEG::12\n",
      "rbho LEG::12\n",
      "rfleg LEG::13\n",
      "rflleg LEG::13\n",
      "rfuleg LEG::13\n",
      "rfho LEG::13\n",
      "rleg LEG::14\n",
      "rlleg LEG::14\n",
      "ruleg LEG::14\n",
      "rfoot LEG::14\n",
      "neck NECK::15\n",
      "lhand ARMHAND::16\n",
      "llarm ARMHAND::16\n",
      "luarm ARMHAND::16\n",
      "rhand ARMHAND::17\n",
      "rlarm ARMHAND::17\n",
      "ruarm ARMHAND::17\n",
      "plant PLANT::18\n",
      "pot POT::19\n",
      "tail TAIL::20\n",
      "torso TORSO::21\n",
      "cbackside_1 TRAIN_COACH::22\n",
      "cbackside_2 TRAIN_COACH::22\n",
      "cfrontside_1 TRAIN_COACH::23\n",
      "cfrontside_2 TRAIN_COACH::23\n",
      "cfrontside_3 TRAIN_COACH::23\n",
      "cfrontside_4 TRAIN_COACH::23\n",
      "cfrontside_5 TRAIN_COACH::23\n",
      "cfrontside_6 TRAIN_COACH::23\n",
      "cfrontside_7 TRAIN_COACH::23\n",
      "cfrontside_9 TRAIN_COACH::23\n",
      "cleftside_1 TRAIN_COACH::24\n",
      "cleftside_2 TRAIN_COACH::24\n",
      "cleftside_3 TRAIN_COACH::24\n",
      "cleftside_4 TRAIN_COACH::24\n",
      "cleftside_5 TRAIN_COACH::24\n",
      "cleftside_6 TRAIN_COACH::24\n",
      "cleftside_7 TRAIN_COACH::24\n",
      "cleftside_8 TRAIN_COACH::24\n",
      "cleftside_9 TRAIN_COACH::24\n",
      "crightside_1 TRAIN_COACH::25\n",
      "crightside_2 TRAIN_COACH::25\n",
      "crightside_3 TRAIN_COACH::25\n",
      "crightside_4 TRAIN_COACH::25\n",
      "crightside_5 TRAIN_COACH::25\n",
      "crightside_6 TRAIN_COACH::25\n",
      "crightside_7 TRAIN_COACH::25\n",
      "crightside_8 TRAIN_COACH::25\n",
      "croofside_1 TRAIN_COACH::26\n",
      "croofside_2 TRAIN_COACH::26\n",
      "croofside_3 TRAIN_COACH::26\n",
      "croofside_4 TRAIN_COACH::26\n",
      "croofside_5 TRAIN_COACH::26\n",
      "coach_1 TRAIN_COACH::27\n",
      "coach_2 TRAIN_COACH::27\n",
      "coach_3 TRAIN_COACH::27\n",
      "coach_4 TRAIN_COACH::27\n",
      "coach_5 TRAIN_COACH::27\n",
      "coach_6 TRAIN_COACH::27\n",
      "coach_7 TRAIN_COACH::27\n",
      "coach_8 TRAIN_COACH::27\n",
      "coach_9 TRAIN_COACH::27\n",
      "hbackside TRAIN_HEAD::28\n",
      "hfrontside TRAIN_HEAD::29\n",
      "hleftside TRAIN_HEAD::30\n",
      "hrightside TRAIN_HEAD::31\n",
      "hroofside TRAIN_HEAD::32\n",
      "screen SCREEN::33\n",
      "door_1 DOOR::34\n",
      "door_2 DOOR::35\n",
      "door_3 DOOR::36\n",
      "door_4 DOOR::37\n",
      "backside VEHICLE_SIDE::38\n",
      "frontside VEHICLE_SIDE::39\n",
      "leftside VEHICLE_SIDE::40\n",
      "rightside VEHICLE_SIDE::41\n",
      "roofside VEHICLE_SIDE::42\n",
      "bwheel WHEEL::43\n",
      "chainwheel WHEEL::44\n",
      "fwheel WHEEL::45\n",
      "wheel_1 WHEEL::46\n",
      "wheel_2 WHEEL::47\n",
      "wheel_3 WHEEL::48\n",
      "wheel_4 WHEEL::49\n",
      "wheel_5 WHEEL::50\n",
      "wheel_6 WHEEL::51\n",
      "wheel_7 WHEEL::52\n",
      "wheel_8 WHEEL::53\n",
      "window_1 WINDOWS::54\n",
      "window_10 WINDOWS::54\n",
      "window_11 WINDOWS::54\n",
      "window_12 WINDOWS::54\n",
      "window_13 WINDOWS::54\n",
      "window_14 WINDOWS::54\n",
      "window_15 WINDOWS::54\n",
      "window_16 WINDOWS::54\n",
      "window_17 WINDOWS::54\n",
      "window_18 WINDOWS::54\n",
      "window_19 WINDOWS::54\n",
      "window_2 WINDOWS::54\n",
      "window_20 WINDOWS::54\n",
      "window_3 WINDOWS::54\n",
      "window_4 WINDOWS::54\n",
      "window_5 WINDOWS::54\n",
      "window_6 WINDOWS::54\n",
      "window_7 WINDOWS::54\n",
      "window_8 WINDOWS::54\n",
      "window_9 WINDOWS::54\n",
      "lwing WINGS::55\n",
      "rwing WINGS::55\n"
     ]
    }
   ],
   "source": [
    "for k,v in class2mergedclass.items():\n",
    "    print(k, v)"
   ]
  },
  {
   "cell_type": "code",
   "execution_count": 10,
   "metadata": {},
   "outputs": [
    {
     "name": "stdout",
     "output_type": "stream",
     "text": [
      "['__background__', 'ARMHAND', 'BODY', 'DOOR', 'ENGINE', 'FACE', 'LEG', 'NECK', 'PLANT', 'POT', 'SCREEN', 'TAIL', 'TORSO', 'TRAIN_COACH', 'TRAIN_HEAD', 'VEHICLE_SIDE', 'WHEEL', 'WINDOWS', 'WINGS']\n"
     ]
    }
   ],
   "source": [
    "classes = sorted(list(classes))\n",
    "classes = [classes[-1]] + classes[:-1]\n",
    "print(classes)"
   ]
  },
  {
   "cell_type": "code",
   "execution_count": 39,
   "metadata": {},
   "outputs": [],
   "source": [
    "filenames = np.loadtxt('../data/VOCdevkit/VOC2010/ImageSets/Main/trainval.txt', dtype=str)"
   ]
  },
  {
   "cell_type": "code",
   "execution_count": 39,
   "metadata": {},
   "outputs": [
    {
     "name": "stderr",
     "output_type": "stream",
     "text": [
      "100%|███████████████████████████████████████████████████████████████████████████| 10103/10103 [00:22<00:00, 456.40it/s]\n"
     ]
    }
   ],
   "source": [
    "for filename in tqdm(filenames):\n",
    "    img_path = '../data/VOCdevkit/VOC2010/JPEGImages/%s.jpg' % filename\n",
    "    anno_path = '../data/VOCdevkit/VOC2010/Annotations_Part_json/%s.json' % filename\n",
    "    target = json.load(open(anno_path, 'r'))\n",
    "    \n",
    "    for obj in target['object']:\n",
    "        new_part_anno = {v: {'xmin':[], 'ymin':[], 'xmax':[], 'ymax':[]} for v in class2mergedclass.values()}\n",
    "        for part in obj['parts']:\n",
    "            classname = part['name']\n",
    "            if classname not in class2mergedclass:\n",
    "                continue\n",
    "            xmin = part['bndbox']['xmin']\n",
    "            ymin = part['bndbox']['ymin']\n",
    "            xmax = part['bndbox']['xmax']\n",
    "            ymax = part['bndbox']['ymax']\n",
    "            mergedclassname = class2mergedclass[classname]\n",
    "            new_part_anno[mergedclassname]['xmin'].append(xmin)\n",
    "            new_part_anno[mergedclassname]['ymin'].append(ymin)\n",
    "            new_part_anno[mergedclassname]['xmax'].append(xmax)\n",
    "            new_part_anno[mergedclassname]['ymax'].append(ymax)    \n",
    "        obj['parts'] = [ {'name': k.split('::')[0], 'bndbox': {'xmin':min(v['xmin']), 'ymin':min(v['ymin']), 'xmax':max(v['xmax']), 'ymax':max(v['ymax'])}} for k,v in new_part_anno.items() if len(v['xmin']) > 0 ]\n",
    "    \n",
    "    json.dump(target, open('../data/VOCdevkit/VOC2010/Annotations_Part_json_merged_part_classes/%s.json' % filename, 'w'))"
   ]
  },
  {
   "cell_type": "code",
   "execution_count": 13,
   "metadata": {},
   "outputs": [],
   "source": [
    "class2ind = np.concatenate((np.array(classes).reshape(-1,1), np.arange(len(classes)).reshape(-1,1)), axis=1)"
   ]
  },
  {
   "cell_type": "code",
   "execution_count": 14,
   "metadata": {},
   "outputs": [
    {
     "data": {
      "text/plain": [
       "array([['__background__', '0'],\n",
       "       ['ARMHAND', '1'],\n",
       "       ['BODY', '2'],\n",
       "       ['DOOR', '3'],\n",
       "       ['ENGINE', '4'],\n",
       "       ['FACE', '5'],\n",
       "       ['LEG', '6'],\n",
       "       ['NECK', '7'],\n",
       "       ['PLANT', '8'],\n",
       "       ['POT', '9'],\n",
       "       ['SCREEN', '10'],\n",
       "       ['TAIL', '11'],\n",
       "       ['TORSO', '12'],\n",
       "       ['TRAIN_COACH', '13'],\n",
       "       ['TRAIN_HEAD', '14'],\n",
       "       ['VEHICLE_SIDE', '15'],\n",
       "       ['WHEEL', '16'],\n",
       "       ['WINDOWS', '17'],\n",
       "       ['WINGS', '18']], dtype='<U14')"
      ]
     },
     "execution_count": 14,
     "metadata": {},
     "output_type": "execute_result"
    }
   ],
   "source": [
    "class2ind"
   ]
  },
  {
   "cell_type": "code",
   "execution_count": 15,
   "metadata": {},
   "outputs": [],
   "source": [
    "np.savetxt('part_mergedclass2ind.txt', class2ind, fmt='%s %s')"
   ]
  },
  {
   "cell_type": "code",
   "execution_count": null,
   "metadata": {},
   "outputs": [],
   "source": []
  }
 ],
 "metadata": {
  "kernelspec": {
   "display_name": "Python 3.7.7 64-bit",
   "language": "python",
   "name": "python37764bit091d647915d84d68972080ee1fa19706"
  },
  "language_info": {
   "codemirror_mode": {
    "name": "ipython",
    "version": 3
   },
   "file_extension": ".py",
   "mimetype": "text/x-python",
   "name": "python",
   "nbconvert_exporter": "python",
   "pygments_lexer": "ipython3",
   "version": "3.7.7"
  }
 },
 "nbformat": 4,
 "nbformat_minor": 4
}
